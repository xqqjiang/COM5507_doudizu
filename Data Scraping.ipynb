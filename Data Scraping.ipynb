{
 "cells": [
  {
   "cell_type": "markdown",
   "metadata": {},
   "source": [
    "# Data Scraping"
   ]
  },
  {
   "cell_type": "markdown",
   "metadata": {},
   "source": [
    "The output of the following three parts of the code will not be displayed here, but output the CSV file to the folder with the same name."
   ]
  },
  {
   "cell_type": "markdown",
   "metadata": {},
   "source": [
    "## Shenzhen housing price in recent 10 years"
   ]
  },
  {
   "cell_type": "code",
   "execution_count": 1,
   "metadata": {},
   "outputs": [],
   "source": [
    "from selenium import webdriver\n",
    "import pandas as pd\n",
    "whole_shenzhen = []"
   ]
  },
  {
   "cell_type": "code",
   "execution_count": null,
   "metadata": {},
   "outputs": [],
   "source": [
    "years = ['2011','2012','2013','2014','2015','2016','2017','2018','2019','2020']\n",
    "for year in years:\n",
    "    # Use webdriver to open the url\n",
    "    url = 'https://mobile.anjuke.com/fangjia/shenzhen' + year\n",
    "    browser = webdriver.Chrome(executable_path='/Users/jiangjiekai/Desktop/data/chromedriver')\n",
    "    browser.get(url)\n",
    "    # find the div we want by Xpath\n",
    "    results = browser.find_elements_by_xpath(\"/html/body/div[7]\")\n",
    "    for result in results:\n",
    "        # find the ul we want by Xpath\n",
    "        link = result.find_element_by_xpath('/html/body/div[7]/ul')\n",
    "        # find the li we want by Xpath\n",
    "        all_li = link.find_elements_by_xpath('li')\n",
    "        actual_lines_list=[]\n",
    "        actual_a_list=[]\n",
    "        for i in all_li:\n",
    "            # extract text from li\n",
    "            a=i.text\n",
    "            # put housing price of a year into a list[]\n",
    "            actual_lines_list.append(a)\n",
    "        # put housing price of 10 years into another list[], which is outer the lists above\n",
    "        whole_shenzhen.append(actual_lines_list)\n",
    "        for item in whole_shenzhen:\n",
    "            # tidy up the raw data(the text that we extract above)\n",
    "            columns = ['raw_data']\n",
    "            df = pd.DataFrame(item, columns=columns)\n",
    "            # Separate raw data with a separator ‘\\n’\n",
    "            df['date'] = df['raw_data'].map(lambda x: x.split('\\n')[0])\n",
    "            df['price'] = df['raw_data'].map(lambda x: x.split('\\n')[1])\n",
    "            df['percent'] = df['raw_data'].map(lambda x: x.split('\\n')[2])\n",
    "            # output dataframe by using year to name the csv file\n",
    "            df.to_csv(str(year)+'.csv')"
   ]
  },
  {
   "cell_type": "markdown",
   "metadata": {},
   "source": [
    "## Housing Price of  Districts in Shenzhen  in recent 10 years"
   ]
  },
  {
   "cell_type": "code",
   "execution_count": null,
   "metadata": {},
   "outputs": [],
   "source": [
    "from selenium import webdriver\n",
    "import pandas as pd\n",
    "years = ['2011','2012','2013','2014','2015','2016','2017','2018','2019','2020']\n",
    "district = ['longgang','nanshan','baoan','futian','longhua','luohu','bujisz','yantian','pingshanq','guangmingx','dapengxinqu']\n",
    "all_district = []\n",
    "for year in years:\n",
    "    for d in district :\n",
    "        try:\n",
    "            # the combination of years and districts on the URL\n",
    "            url = 'https://www.anjuke.com/fangjia/shenzhen' + str(year) +'/' + str(d)\n",
    "            browser = webdriver.Chrome(executable_path='/Users/jiangjiekai/Desktop/data/chromedriver')\n",
    "            browser.get(url)\n",
    "            link = browser.find_element_by_xpath('/html/body/div[2]/div[5]/div[1]/div[1]/ul')\n",
    "            all_li = link.find_elements_by_xpath('li')\n",
    "            actual_lines_list=[]\n",
    "            for i in all_li:\n",
    "                # extract text from li\n",
    "                if i.text:\n",
    "                    a=i.text + '\\n' + str(d) # add district information\n",
    "                    actual_lines_list.append(a)  # extract data of a district in a year and put it into a list[]\n",
    "                else:\n",
    "                    a='NA'\n",
    "                    actual_lines_list.append(a)\n",
    "           # put housing price of districts in 10 years into another list[], which is outer the lists above\n",
    "            all_district.append(actual_lines_list)\n",
    "            # remove the incomplete data\n",
    "            for item in all_district:\n",
    "                if len(item) != 12:\n",
    "                    all_district.remove(item)\n",
    "                else:\n",
    "                    # tidy up the raw data(the text that we extract above)\n",
    "                    # Separate raw data with a separator ‘\\n’\n",
    "                    columns = ['raw_data']\n",
    "                    df = pd.DataFrame(item, columns=columns)\n",
    "                    df['date'] = df['raw_data'].map(lambda x: x.split('\\n')[0])\n",
    "                    df['price'] = df['raw_data'].map(lambda x: x.split('\\n')[1])\n",
    "                    df['percent'] = df['raw_data'].map(lambda x: x.split('\\n')[2])\n",
    "                    df['district'] = df['raw_data'].map(lambda x: x.split('\\n')[3])\n",
    "                    # output dataframe by using year and district to name the csv file\n",
    "                    df.to_csv(str(year)+str(d)+ '.csv')\n",
    "        except:\n",
    "            continue\n"
   ]
  },
  {
   "cell_type": "markdown",
   "metadata": {},
   "source": [
    "## Housing Price of  Regions (subset of district, like commercial centre or street ) in Shenzhen  in recent 10 years"
   ]
  },
  {
   "cell_type": "code",
   "execution_count": 2,
   "metadata": {},
   "outputs": [],
   "source": [
    "from selenium import webdriver\n",
    "import pandas as pd\n",
    "years = ['2011','2012','2013','2014','2015','2016','2017','2018','2019','2020']\n",
    "all_district = []"
   ]
  },
  {
   "cell_type": "code",
   "execution_count": 3,
   "metadata": {},
   "outputs": [],
   "source": [
    "# use a dictionary to store region and district information\n",
    "all_small_district = {'龙岗':['bantian','buji','danzhutou','dayun','dapengw','henggang','kuiyongw','longgangzhongxincheng','nanwanw','nanao','pinghua','pingdi'],\n",
    "                      '南山':['huaqiaocheng','houhai','kejiyuan','nanyou','nanshanzhongxin','nantou','qianhai','shekou','taoyuancun','xili'],\n",
    "                      '宝安中心':['baoanzhongxin','baoanjichang','fuyong','shajing','songgang','shiyan','taoyuanju','xixiang','xinan'],\n",
    "                      '福田':['bagualing','bijiashan','baihua','chegongmiao','chiwei','futianzhongxin','futiankouan','gangxias','huanggang','huaqiangnan','huaqiangbei','jingtian','lianhua','meilin','nongkezhongxin','shangbu','shishad','shangxiasha','xinzhou','xiangmihu','yuanling','zhuzilina'],\n",
    "                      '龙华':['dalangt','guanlant','longhuazhongxinqu','longhuaquzhengfu','mingzhi','meilinguankou','qinghu'],\n",
    "                      '罗湖':['buxin','caiwuwei','caopu','cuizhu','dongmen','guomaow','huangbeiling','honghu','liantang','nigang','renminnan','shuiku','sungang','tainbei','yijingw','yinhu'],\n",
    "                      '盐田':['meisha','shatoujiao','yantians'],\n",
    "                      '坪山':['kangzi','pingshant'],\n",
    "                      '光明':['gongming','guangming']\n",
    "                     }"
   ]
  },
  {
   "cell_type": "code",
   "execution_count": null,
   "metadata": {},
   "outputs": [],
   "source": [
    "for year in years: \n",
    "    # key refers to the district and value refers to the list of regions of a district\n",
    "    for key,value in  all_small_district.items():\n",
    "        # v refers to one of regions in a district\n",
    "        for v in value:\n",
    "            try:\n",
    "                url = 'https://www.anjuke.com/fangjia/shenzhen' + str(year) +'/' + str(v)\n",
    "                browser = webdriver.Chrome(executable_path='/Users/jiangjiekai/Desktop/data/chromedriver')\n",
    "                browser.get(url)\n",
    "                # find the ul we want by Xpath\n",
    "                ul = browser.find_element_by_xpath('/html/body/div[2]/div[5]/div[1]/div[1]/ul')\n",
    "                # find the li we want by Xpath\n",
    "                all_li = ul.find_elements_by_xpath('li')\n",
    "                actual_li_list=[]\n",
    "                # extract text from li\n",
    "                for i in all_li:\n",
    "                    if i.text:\n",
    "                        # extract data of a region in a year and put it into a list[]\n",
    "                        a=i.text + '\\n' + str(key) + '\\n' + str(v)\n",
    "                        actual_li_list.append(a)# extract data of a region in a year and put it into a list[]\n",
    "                    else:\n",
    "                        a='NA'\n",
    "                        actual_li_list.append(a)\n",
    "                # put the data of different regions in to a outer list[]\n",
    "                # put housing price of regions in 10 years into another list[], which is outer the lists above\n",
    "                all_district.append(actual_li_list)\n",
    "                for item in all_district:\n",
    "                    # remove the incomplete data\n",
    "                    if len(item) != 12:\n",
    "                        all_district.remove(item)\n",
    "                    else:\n",
    "                        # tidy up the raw data(the text that we extract above)\n",
    "                        # Separate raw data with a separator ‘\\n’\n",
    "                        columns = ['raw_data']\n",
    "                        df = pd.DataFrame(item, columns=columns)\n",
    "                        df['date'] = df['raw_data'].map(lambda x: x.split('\\n')[0])\n",
    "                        df['price'] = df['raw_data'].map(lambda x: x.split('\\n')[1])\n",
    "                        df['percent'] = df['raw_data'].map(lambda x: x.split('\\n')[2])\n",
    "                        df['district'] = df['raw_data'].map(lambda x: x.split('\\n')[3])\n",
    "                        df['small_district'] = df['raw_data'].map(lambda x: x.split('\\n')[4])\n",
    "                        #  output dataframe by using year and region to name the csv file\n",
    "                        df.to_csv(str(year)+str(key)+str(v)+ '.csv')\n",
    "            except:\n",
    "                continue"
   ]
  }
 ],
 "metadata": {
  "kernelspec": {
   "display_name": "Python 3",
   "language": "python",
   "name": "python3"
  },
  "language_info": {
   "codemirror_mode": {
    "name": "ipython",
    "version": 3
   },
   "file_extension": ".py",
   "mimetype": "text/x-python",
   "name": "python",
   "nbconvert_exporter": "python",
   "pygments_lexer": "ipython3",
   "version": "3.8.3"
  }
 },
 "nbformat": 4,
 "nbformat_minor": 4
}
